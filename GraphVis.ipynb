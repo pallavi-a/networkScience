{
  "nbformat": 4,
  "nbformat_minor": 0,
  "metadata": {
    "colab": {
      "provenance": []
    },
    "kernelspec": {
      "name": "python3",
      "display_name": "Python 3"
    },
    "language_info": {
      "name": "python"
    }
  },
  "cells": [
    {
      "cell_type": "markdown",
      "source": [
        "**# for Twitter**"
      ],
      "metadata": {
        "id": "I0Yn4sudKFCH"
      }
    },
    {
      "cell_type": "code",
      "execution_count": null,
      "metadata": {
        "colab": {
          "base_uri": "https://localhost:8080/"
        },
        "id": "jz03Y9NqOf82",
        "outputId": "23824515-0b8f-4703-eb54-b14c0fafebfb"
      },
      "outputs": [
        {
          "output_type": "stream",
          "name": "stdout",
          "text": [
            "Collecting graphistry\n",
            "  Downloading graphistry-0.23.3-py3-none-any.whl (133 kB)\n",
            "\u001b[?25l\r\u001b[K     |██▌                             | 10 kB 19.4 MB/s eta 0:00:01\r\u001b[K     |█████                           | 20 kB 14.4 MB/s eta 0:00:01\r\u001b[K     |███████▍                        | 30 kB 10.2 MB/s eta 0:00:01\r\u001b[K     |█████████▉                      | 40 kB 9.5 MB/s eta 0:00:01\r\u001b[K     |████████████▎                   | 51 kB 8.0 MB/s eta 0:00:01\r\u001b[K     |██████████████▊                 | 61 kB 9.3 MB/s eta 0:00:01\r\u001b[K     |█████████████████▏              | 71 kB 9.1 MB/s eta 0:00:01\r\u001b[K     |███████████████████▋            | 81 kB 9.3 MB/s eta 0:00:01\r\u001b[K     |██████████████████████          | 92 kB 10.2 MB/s eta 0:00:01\r\u001b[K     |████████████████████████▌       | 102 kB 10.3 MB/s eta 0:00:01\r\u001b[K     |███████████████████████████     | 112 kB 10.3 MB/s eta 0:00:01\r\u001b[K     |█████████████████████████████▌  | 122 kB 10.3 MB/s eta 0:00:01\r\u001b[K     |████████████████████████████████| 133 kB 10.3 MB/s eta 0:00:01\r\u001b[K     |████████████████████████████████| 133 kB 10.3 MB/s \n",
            "\u001b[?25hRequirement already satisfied: protobuf>=2.6.0 in /usr/local/lib/python3.7/dist-packages (from graphistry) (3.17.3)\n",
            "Requirement already satisfied: numpy in /usr/local/lib/python3.7/dist-packages (from graphistry) (1.21.6)\n",
            "Requirement already satisfied: requests in /usr/local/lib/python3.7/dist-packages (from graphistry) (2.23.0)\n",
            "Requirement already satisfied: pandas>=0.17.0 in /usr/local/lib/python3.7/dist-packages (from graphistry) (1.3.5)\n",
            "Requirement already satisfied: pyarrow>=0.15.0 in /usr/local/lib/python3.7/dist-packages (from graphistry) (6.0.1)\n",
            "Requirement already satisfied: python-dateutil>=2.7.3 in /usr/local/lib/python3.7/dist-packages (from pandas>=0.17.0->graphistry) (2.8.2)\n",
            "Requirement already satisfied: pytz>=2017.3 in /usr/local/lib/python3.7/dist-packages (from pandas>=0.17.0->graphistry) (2022.1)\n",
            "Requirement already satisfied: six>=1.9 in /usr/local/lib/python3.7/dist-packages (from protobuf>=2.6.0->graphistry) (1.15.0)\n",
            "Requirement already satisfied: chardet<4,>=3.0.2 in /usr/local/lib/python3.7/dist-packages (from requests->graphistry) (3.0.4)\n",
            "Requirement already satisfied: urllib3!=1.25.0,!=1.25.1,<1.26,>=1.21.1 in /usr/local/lib/python3.7/dist-packages (from requests->graphistry) (1.24.3)\n",
            "Requirement already satisfied: certifi>=2017.4.17 in /usr/local/lib/python3.7/dist-packages (from requests->graphistry) (2021.10.8)\n",
            "Requirement already satisfied: idna<3,>=2.5 in /usr/local/lib/python3.7/dist-packages (from requests->graphistry) (2.10)\n",
            "Installing collected packages: graphistry\n",
            "Successfully installed graphistry-0.23.3\n"
          ]
        }
      ],
      "source": [
        "pip install graphistry"
      ]
    },
    {
      "cell_type": "code",
      "source": [
        "import graphistry\n",
        "graphistry.register(api=3, username='pallavi04', password='Hardwork@0405')"
      ],
      "metadata": {
        "id": "PFP-Z4XtQAVk"
      },
      "execution_count": null,
      "outputs": []
    },
    {
      "cell_type": "code",
      "source": [
        "import pandas as pd\n",
        "edges = pd.read_csv('/content/twitter_combined.txt', sep=' ', names=['src', 'dst'])\n",
        "graphistry.edges(edges, 'src', 'dst').plot()"
      ],
      "metadata": {
        "colab": {
          "base_uri": "https://localhost:8080/",
          "height": 543
        },
        "id": "upeJYSl2Oz6w",
        "outputId": "a18162d3-a263-4b28-b6cf-0bad5caa3cd9"
      },
      "execution_count": null,
      "outputs": [
        {
          "output_type": "execute_result",
          "data": {
            "text/plain": [
              "<IPython.core.display.HTML object>"
            ],
            "text/html": [
              "\n",
              "            <iframe id=\"81beb418-721f-4d85-ac48-bab995a50538\" src=\"https://hub.graphistry.com/graph/graph.html?dataset=a94643af7b334e10aaf3bbbff216e6c8&type=arrow&viztoken=af84afa2-a16e-4d4c-832f-6da218432cfe&usertag=a7b581de-pygraphistry-0.23.3&splashAfter=1650928427&info=true\"\n",
              "                    allowfullscreen=\"true\" webkitallowfullscreen=\"true\" mozallowfullscreen=\"true\"\n",
              "                    oallowfullscreen=\"true\" msallowfullscreen=\"true\"\n",
              "                    style=\"width:100%; height:500px; border: 1px solid #DDD; overflow: hidden\"\n",
              "                    \n",
              "            >\n",
              "            </iframe>\n",
              "        \n",
              "            <script>\n",
              "                try {\n",
              "                  $(\"#81beb418-721f-4d85-ac48-bab995a50538\").bind('mousewheel', function(e) { e.preventDefault(); });\n",
              "                } catch (e) { console.error('exn catching scroll', e); }\n",
              "            </script>\n",
              "        "
            ]
          },
          "metadata": {},
          "execution_count": 7
        }
      ]
    },
    {
      "cell_type": "markdown",
      "source": [
        "**For Facebook**"
      ],
      "metadata": {
        "id": "NlTxUzApKIKc"
      }
    },
    {
      "cell_type": "code",
      "source": [
        "# PyVis - Facebook data \n",
        "import networkx as nx\n",
        "import matplotlib.pyplot as plt\n",
        "\n",
        "G =nx.read_edgelist(\"/content/facebook_combined.txt\", create_using = nx.Graph(), nodetype=int)"
      ],
      "metadata": {
        "id": "qR_urXJjzINo"
      },
      "execution_count": null,
      "outputs": []
    },
    {
      "cell_type": "code",
      "source": [
        "pip install pyvis"
      ],
      "metadata": {
        "id": "7ev9-tH-J4hI"
      },
      "execution_count": null,
      "outputs": []
    },
    {
      "cell_type": "code",
      "source": [
        "from pyvis.network import Network \n",
        "net = Network(notebook=True)\n",
        "net.from_nx(G)\n",
        "net.show(\"facebook.html\")"
      ],
      "metadata": {
        "id": "H7TTnpLEJ-Cz"
      },
      "execution_count": null,
      "outputs": []
    }
  ]
}